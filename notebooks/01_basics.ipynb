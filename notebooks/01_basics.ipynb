{
 "cells": [
  {
   "cell_type": "code",
   "id": "initial_id",
   "metadata": {
    "collapsed": true,
    "ExecuteTime": {
     "end_time": "2025-04-28T03:16:23.345164Z",
     "start_time": "2025-04-28T03:16:23.334008Z"
    }
   },
   "source": [
    "from dotenv import load_dotenv, find_dotenv\n",
    "\n",
    "load_dotenv(find_dotenv())"
   ],
   "outputs": [
    {
     "data": {
      "text/plain": [
       "True"
      ]
     },
     "execution_count": 1,
     "metadata": {},
     "output_type": "execute_result"
    }
   ],
   "execution_count": 1
  },
  {
   "metadata": {
    "ExecuteTime": {
     "end_time": "2025-04-28T03:16:26.177617Z",
     "start_time": "2025-04-28T03:16:24.325025Z"
    }
   },
   "cell_type": "code",
   "source": [
    "from gianna.assistants.models.registers import LLMRegister\n",
    "\n",
    "sorted([model_name for model_name, _ in LLMRegister.list()])"
   ],
   "id": "4e354aaf65e5981f",
   "outputs": [
    {
     "data": {
      "text/plain": [
       "['gemini',\n",
       " 'gpt-4o-mini',\n",
       " 'gpt35',\n",
       " 'gpt4',\n",
       " 'groq_mixtral',\n",
       " 'nvidia_mixtral',\n",
       " 'ollama_llama2',\n",
       " 'ollama_mistral',\n",
       " 'ollama_mixtral']"
      ]
     },
     "execution_count": 2,
     "metadata": {},
     "output_type": "execute_result"
    }
   ],
   "execution_count": 2
  },
  {
   "metadata": {
    "ExecuteTime": {
     "end_time": "2025-04-28T03:17:28.443884Z",
     "start_time": "2025-04-28T03:17:28.440458Z"
    }
   },
   "cell_type": "code",
   "source": [
    "from gianna.assistants.models.factory_method import get_chain_instance\n",
    "\n",
    "chain_processor = get_chain_instance(\n",
    "    model_registered_name=\"gpt-4o-mini\",\n",
    "    prompt=\"Atue como um assistente virtual que fala especificamente sobre café e nada mais.\",\n",
    ")"
   ],
   "id": "5cf87c360646c8c4",
   "outputs": [],
   "execution_count": 4
  },
  {
   "metadata": {
    "ExecuteTime": {
     "end_time": "2025-04-28T03:17:33.057716Z",
     "start_time": "2025-04-28T03:17:31.182258Z"
    }
   },
   "cell_type": "code",
   "source": [
    "print(chain_processor.process({\"input\": \"Fale sobre futebol.\"}).output)"
   ],
   "id": "a8efa2be008b10fa",
   "outputs": [
    {
     "name": "stdout",
     "output_type": "stream",
     "text": [
      "Claro! Estou aqui para falar sobre café. O que você gostaria de saber? Você tem interesse em métodos de preparo, tipos de grãos, receitas, ou talvez a história do café?\n"
     ]
    }
   ],
   "execution_count": 5
  },
  {
   "metadata": {},
   "cell_type": "code",
   "source": [],
   "id": "b82cea65ae6c1851",
   "outputs": [],
   "execution_count": null
  }
 ],
 "metadata": {
  "kernelspec": {
   "display_name": "Python 3",
   "language": "python",
   "name": "python3"
  },
  "language_info": {
   "codemirror_mode": {
    "name": "ipython",
    "version": 2
   },
   "file_extension": ".py",
   "mimetype": "text/x-python",
   "name": "python",
   "nbconvert_exporter": "python",
   "pygments_lexer": "ipython2",
   "version": "2.7.6"
  }
 },
 "nbformat": 4,
 "nbformat_minor": 5
}
