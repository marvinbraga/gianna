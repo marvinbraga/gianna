{
 "cells": [
  {
   "cell_type": "code",
   "id": "initial_id",
   "metadata": {
    "collapsed": true,
    "ExecuteTime": {
     "end_time": "2024-04-17T03:21:57.840017Z",
     "start_time": "2024-04-17T03:21:57.830632Z"
    }
   },
   "source": [
    "from dotenv import load_dotenv, find_dotenv\n",
    "\n",
    "load_dotenv(find_dotenv())"
   ],
   "outputs": [
    {
     "data": {
      "text/plain": [
       "True"
      ]
     },
     "execution_count": 1,
     "metadata": {},
     "output_type": "execute_result"
    }
   ],
   "execution_count": 1
  },
  {
   "metadata": {
    "ExecuteTime": {
     "end_time": "2024-04-17T03:21:59.714458Z",
     "start_time": "2024-04-17T03:21:58.818453Z"
    }
   },
   "cell_type": "code",
   "source": [
    "from assistants.models.registers import LLMRegister\n",
    "\n",
    "sorted([model_name for model_name, _ in LLMRegister.list()])"
   ],
   "id": "4e354aaf65e5981f",
   "outputs": [
    {
     "data": {
      "text/plain": [
       "['gemini',\n",
       " 'gpt35',\n",
       " 'gpt4',\n",
       " 'groq_mixtral',\n",
       " 'nvidia_mixtral',\n",
       " 'ollama_llama2',\n",
       " 'ollama_mistral',\n",
       " 'ollama_mixtral']"
      ]
     },
     "execution_count": 2,
     "metadata": {},
     "output_type": "execute_result"
    }
   ],
   "execution_count": 2
  },
  {
   "metadata": {},
   "cell_type": "code",
   "source": [
    "from assistants.models.factory_method import get_chain_instance\n",
    "\n",
    "chain_processor = get_chain_instance(\n",
    "    model_registered_name=\"groq_mixtral\", \n",
    "    prompt=\"Atue como um assistente virtual que fala especificamente sobre café e nada mais.\",\n",
    ")"
   ],
   "id": "5cf87c360646c8c4",
   "outputs": [],
   "execution_count": null
  },
  {
   "metadata": {},
   "cell_type": "code",
   "source": "print(chain_processor.process({\"input\": \"Fale sobre futebol.\"}).output)",
   "id": "a8efa2be008b10fa",
   "outputs": [],
   "execution_count": null
  },
  {
   "metadata": {},
   "cell_type": "code",
   "source": "",
   "id": "b82cea65ae6c1851",
   "outputs": [],
   "execution_count": null
  }
 ],
 "metadata": {
  "kernelspec": {
   "display_name": "Python 3",
   "language": "python",
   "name": "python3"
  },
  "language_info": {
   "codemirror_mode": {
    "name": "ipython",
    "version": 2
   },
   "file_extension": ".py",
   "mimetype": "text/x-python",
   "name": "python",
   "nbconvert_exporter": "python",
   "pygments_lexer": "ipython2",
   "version": "2.7.6"
  }
 },
 "nbformat": 4,
 "nbformat_minor": 5
}
