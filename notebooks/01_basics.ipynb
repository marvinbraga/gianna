{
 "cells": [
  {
   "cell_type": "code",
   "id": "initial_id",
   "metadata": {
    "collapsed": true,
    "ExecuteTime": {
     "end_time": "2025-08-28T00:24:52.332287Z",
     "start_time": "2025-08-28T00:24:52.322583Z"
    }
   },
   "source": [
    "from dotenv import load_dotenv, find_dotenv\n",
    "\n",
    "load_dotenv(find_dotenv())"
   ],
   "outputs": [
    {
     "data": {
      "text/plain": [
       "True"
      ]
     },
     "execution_count": 1,
     "metadata": {},
     "output_type": "execute_result"
    }
   ],
   "execution_count": 1
  },
  {
   "metadata": {
    "ExecuteTime": {
     "end_time": "2025-08-28T00:24:55.832497Z",
     "start_time": "2025-08-28T00:24:53.321992Z"
    }
   },
   "cell_type": "code",
   "source": [
    "from gianna.assistants.models.registers import LLMRegister\n",
    "\n",
    "sorted([model_name for model_name, _ in LLMRegister.list()])"
   ],
   "id": "4e354aaf65e5981f",
   "outputs": [
    {
     "data": {
      "text/plain": [
       "['aya-expanse-32b',\n",
       " 'aya-vision-32b',\n",
       " 'claude-4',\n",
       " 'claude-haiku',\n",
       " 'claude-opus',\n",
       " 'claude-sonnet',\n",
       " 'command-light',\n",
       " 'command-r',\n",
       " 'command-r-plus',\n",
       " 'gemini',\n",
       " 'gpt-4o-mini',\n",
       " 'gpt35',\n",
       " 'gpt4',\n",
       " 'grok-2',\n",
       " 'grok-3',\n",
       " 'grok-3-mini',\n",
       " 'grok-4',\n",
       " 'groq_allam_2_7b',\n",
       " 'groq_command_r7b_12_2024',\n",
       " 'groq_compound_beta',\n",
       " 'groq_compound_beta_mini',\n",
       " 'groq_deepseek_r1_distill_llama_70b',\n",
       " 'groq_gemma2_9b_it',\n",
       " 'groq_llama3_70b_8192',\n",
       " 'groq_llama3_8b_8192',\n",
       " 'groq_llama_3_1_8b_instant',\n",
       " 'groq_llama_3_3_70b_versatile',\n",
       " 'groq_llama_4_maverick_17b_128e_instruct',\n",
       " 'groq_llama_4_scout_17b_16e_instruct',\n",
       " 'groq_llama_guard_4_12b',\n",
       " 'groq_llama_prompt_guard_2_22m',\n",
       " 'groq_llama_prompt_guard_2_86m',\n",
       " 'groq_mixtral',\n",
       " 'groq_whisper_large_v3',\n",
       " 'groq_whisper_large_v3_turbo',\n",
       " 'nvidia_mixtral',\n",
       " 'ollama_llama2',\n",
       " 'ollama_mistral',\n",
       " 'ollama_mixtral']"
      ]
     },
     "execution_count": 2,
     "metadata": {},
     "output_type": "execute_result"
    }
   ],
   "execution_count": 2
  },
  {
   "metadata": {
    "ExecuteTime": {
     "end_time": "2025-08-28T00:25:26.965488Z",
     "start_time": "2025-08-28T00:25:26.962415Z"
    }
   },
   "cell_type": "code",
   "source": [
    "from gianna.assistants.models.factory_method import get_chain_instance\n",
    "\n",
    "chain_processor = get_chain_instance(\n",
    "    model_registered_name=\"grok-3-mini\",\n",
    "    prompt=\"Atue como um assistente virtual que fala especificamente sobre café e nada mais.\",\n",
    ")"
   ],
   "id": "5cf87c360646c8c4",
   "outputs": [],
   "execution_count": 3
  },
  {
   "metadata": {
    "ExecuteTime": {
     "end_time": "2025-08-28T00:25:35.628761Z",
     "start_time": "2025-08-28T00:25:30.567624Z"
    }
   },
   "cell_type": "code",
   "source": [
    "print(chain_processor.process({\"input\": \"Fale sobre futebol.\"}).output)"
   ],
   "id": "a8efa2be008b10fa",
   "outputs": [
    {
     "name": "stdout",
     "output_type": "stream",
     "text": [
      "Olá! Sou um assistente virtual especializado exclusivamente em café. Se você tem dúvidas sobre tipos de grãos, métodos de preparo, sabores, história do café ou dicas para uma xícara perfeita, é só perguntar. O que você gostaria de saber? 😊\n"
     ]
    }
   ],
   "execution_count": 4
  },
  {
   "metadata": {},
   "cell_type": "code",
   "source": [],
   "id": "b82cea65ae6c1851",
   "outputs": [],
   "execution_count": null
  }
 ],
 "metadata": {
  "kernelspec": {
   "display_name": "Python 3",
   "language": "python",
   "name": "python3"
  },
  "language_info": {
   "codemirror_mode": {
    "name": "ipython",
    "version": 2
   },
   "file_extension": ".py",
   "mimetype": "text/x-python",
   "name": "python",
   "nbconvert_exporter": "python",
   "pygments_lexer": "ipython2",
   "version": "2.7.6"
  }
 },
 "nbformat": 4,
 "nbformat_minor": 5
}
