{
 "cells": [
  {
   "metadata": {},
   "cell_type": "code",
   "source": [
    "from dotenv import load_dotenv, find_dotenv\n",
    "\n",
    "load_dotenv(find_dotenv())"
   ],
   "id": "ae1ab19402df3fd7",
   "outputs": [],
   "execution_count": null
  },
  {
   "metadata": {},
   "cell_type": "markdown",
   "source": [
    "# Speech To Text"
   ],
   "id": "4e97899fc5472039"
  },
  {
   "cell_type": "code",
   "id": "initial_id",
   "metadata": {
    "collapsed": true
   },
   "source": [
    "from pathlib import Path\n",
    "\n",
    "from gianna.assistants.audio.stt.mp3 import MP3AudioLoader\n",
    "from gianna.assistants.audio.stt.whisper import WhisperSpeechToTextLoader\n",
    "\n",
    "save_dir = Path().absolute().parent / \"resources\"\n",
    "print(save_dir, save_dir.exists(), save_dir.is_dir())\n",
    "\n",
    "loader = WhisperSpeechToTextLoader(loader=MP3AudioLoader(save_dir))\n",
    "docs = loader.load().docs\n",
    "\n",
    "for doc in docs:\n",
    "    print(doc.metadata[\"source\"], doc.page_content)"
   ],
   "outputs": [],
   "execution_count": null
  },
  {
   "metadata": {},
   "cell_type": "markdown",
   "source": [
    "# Play MP3 Audio File"
   ],
   "id": "84cd181ed79bae2"
  },
  {
   "metadata": {},
   "cell_type": "code",
   "source": [
    "from gianna.assistants.audio.players.factory_method import play_audio\n",
    "from pathlib import Path\n",
    "import warnings\n",
    "\n",
    "warnings.filterwarnings(\"ignore\")\n",
    "filename = Path().absolute().parent / \"resources\" / \"beep_short.mp3\"\n",
    "\n",
    "play_audio(filename)"
   ],
   "id": "159fc733e662e7a7",
   "outputs": [],
   "execution_count": null
  },
  {
   "metadata": {},
   "cell_type": "markdown",
   "source": [
    "# Text To Speech"
   ],
   "id": "8058776a7939b09a"
  },
  {
   "metadata": {},
   "cell_type": "code",
   "source": [],
   "id": "c1f9d17d680a1825",
   "outputs": [],
   "execution_count": null
  },
  {
   "metadata": {},
   "cell_type": "code",
   "source": [
    "from gianna.assistants.audio.tts.factory_method import text_to_speech\n",
    "\n",
    "text = \"Hello, how are you?\"\n",
    "speech_type = \"google\"\n",
    "lang = \"en\"\n",
    "voice = \"onyx\"\n",
    "\n",
    "text_to_speech(text, speech_type, lang, voice)"
   ],
   "id": "1c89e59eca91bf76",
   "outputs": [],
   "execution_count": null
  },
  {
   "metadata": {},
   "cell_type": "code",
   "source": [
    "from gianna.assistants.commands.speech import SpeechCommand, SpeechType\n",
    "\n",
    "command = SpeechCommand().execute(\n",
    "    text=\"Hello! How are you?\",\n",
    "    speech_type=SpeechType.ELEVEN_LABS,\n",
    ")"
   ],
   "id": "16468063d1b65f67",
   "outputs": [],
   "execution_count": null
  },
  {
   "metadata": {},
   "cell_type": "code",
   "source": [],
   "id": "5b424f6cfa7b02d1",
   "outputs": [],
   "execution_count": null
  }
 ],
 "metadata": {
  "kernelspec": {
   "display_name": "Python 3",
   "language": "python",
   "name": "python3"
  },
  "language_info": {
   "codemirror_mode": {
    "name": "ipython",
    "version": 2
   },
   "file_extension": ".py",
   "mimetype": "text/x-python",
   "name": "python",
   "nbconvert_exporter": "python",
   "pygments_lexer": "ipython2",
   "version": "2.7.6"
  }
 },
 "nbformat": 4,
 "nbformat_minor": 5
}
