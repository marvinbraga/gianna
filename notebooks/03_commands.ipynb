{
 "cells": [
  {
   "metadata": {},
   "cell_type": "code",
   "source": [
    "from dotenv import load_dotenv, find_dotenv\n",
    "\n",
    "load_dotenv(find_dotenv())"
   ],
   "id": "initial_id",
   "outputs": [],
   "execution_count": null
  },
  {
   "metadata": {},
   "cell_type": "markdown",
   "source": [
    "## Checking Available Commands"
   ],
   "id": "d0de1e36589aa515"
  },
  {
   "metadata": {},
   "cell_type": "code",
   "source": [
    "from gianna.assistants.commands.factory_method import list_commands\n",
    "\n",
    "list_commands()"
   ],
   "id": "98404bf0c7f8190f",
   "outputs": [],
   "execution_count": null
  },
  {
   "metadata": {},
   "cell_type": "markdown",
   "source": [
    "## Running the Command "
   ],
   "id": "13e171249330bfa6"
  },
  {
   "metadata": {},
   "cell_type": "code",
   "source": [
    "from gianna.assistants.commands.factory_method import get_command\n",
    "from gianna.assistants.commands.speech import SpeechCommand\n",
    "\n",
    "cmd = get_command(\n",
    "    activation_key_word=\"shell command\",\n",
    "    name=\"Gianna\",\n",
    "    human_companion_name=\"Marcus\",\n",
    "    text_to_speech=SpeechCommand(),    \n",
    ")"
   ],
   "id": "c41a3c8cdd522123",
   "outputs": [],
   "execution_count": null
  },
  {
   "metadata": {},
   "cell_type": "code",
   "source": [
    "cmd.execute(\"Go to my home dir and list my files.\")"
   ],
   "id": "d17700917f8ebba0",
   "outputs": [],
   "execution_count": null
  },
  {
   "metadata": {},
   "cell_type": "code",
   "source": [],
   "id": "7aa30b7cf93f48b7",
   "outputs": [],
   "execution_count": null
  }
 ],
 "metadata": {
  "kernelspec": {
   "display_name": "Python 3",
   "language": "python",
   "name": "python3"
  },
  "language_info": {
   "codemirror_mode": {
    "name": "ipython",
    "version": 2
   },
   "file_extension": ".py",
   "mimetype": "text/x-python",
   "name": "python",
   "nbconvert_exporter": "python",
   "pygments_lexer": "ipython2",
   "version": "2.7.6"
  }
 },
 "nbformat": 4,
 "nbformat_minor": 5
}
