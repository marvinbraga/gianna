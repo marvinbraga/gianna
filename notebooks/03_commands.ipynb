{
 "cells": [
  {
   "cell_type": "code",
   "id": "initial_id",
   "metadata": {
    "collapsed": true
   },
   "source": [
    "from dotenv import load_dotenv, find_dotenv\n",
    "\n",
    "from assistants.commands.speech import SpeechCommand\n",
    "\n",
    "load_dotenv(find_dotenv())"
   ],
   "outputs": [],
   "execution_count": null
  },
  {
   "metadata": {},
   "cell_type": "code",
   "source": [
    "from assistants.commands.shell import ShellCommand\n",
    "\n",
    "command = ShellCommand(\n",
    "    name=\"Gianna\",\n",
    "    human_companion_name=\"Marcus\",\n",
    "    text_to_speech=SpeechCommand(),\n",
    ")"
   ],
   "id": "97d449e66c4911e7",
   "outputs": [],
   "execution_count": null
  },
  {
   "metadata": {},
   "cell_type": "code",
   "source": "command",
   "id": "ed3c16c83e519928",
   "outputs": [],
   "execution_count": null
  },
  {
   "metadata": {},
   "cell_type": "code",
   "source": "command.execute(prompt=\"List my downloaded files.\")",
   "id": "c41a3c8cdd522123",
   "outputs": [],
   "execution_count": null
  },
  {
   "metadata": {},
   "cell_type": "code",
   "source": "",
   "id": "d17700917f8ebba0",
   "outputs": [],
   "execution_count": null
  }
 ],
 "metadata": {
  "kernelspec": {
   "display_name": "Python 3",
   "language": "python",
   "name": "python3"
  },
  "language_info": {
   "codemirror_mode": {
    "name": "ipython",
    "version": 2
   },
   "file_extension": ".py",
   "mimetype": "text/x-python",
   "name": "python",
   "nbconvert_exporter": "python",
   "pygments_lexer": "ipython2",
   "version": "2.7.6"
  }
 },
 "nbformat": 4,
 "nbformat_minor": 5
}
